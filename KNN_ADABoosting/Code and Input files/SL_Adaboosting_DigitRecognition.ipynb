{
 "cells": [
  {
   "cell_type": "code",
   "execution_count": 1,
   "metadata": {
    "collapsed": false
   },
   "outputs": [
    {
     "name": "stdout",
     "output_type": "stream",
     "text": [
      "Done with Loading the Training Data.\n"
     ]
    }
   ],
   "source": [
    "import csv\n",
    "import numpy as np\n",
    "from sklearn.tree import DecisionTreeClassifier\n",
    "from sklearn.ensemble import AdaBoostClassifier\n",
    "from sklearn import metrics\n",
    "\n",
    "## This is responsible for formation of the input data.\n",
    "with open('optdigits_raining.csv') as trainingFile:\n",
    "    reader = csv.reader(trainingFile)\n",
    "    X= []\n",
    "    Y= []\n",
    "    \n",
    "    for row in reader:\n",
    "        X.append(row[:64])\n",
    "        Y.append(row[64])\n",
    "    \n",
    "\n",
    "for i in range(0,len(X)):\n",
    "    lst = X[i]\n",
    "    for j in range(0,len(lst)):\n",
    "        lst[j] = int(lst[j])\n",
    "    X[i] = lst\n",
    "for i in range(0,len(Y)):\n",
    "    Y[i] = int(Y[i])\n",
    "\n",
    "print(\"Done with Loading the Training Data.\")"
   ]
  },
  {
   "cell_type": "code",
   "execution_count": 2,
   "metadata": {
    "collapsed": false
   },
   "outputs": [
    {
     "name": "stdout",
     "output_type": "stream",
     "text": [
      "Done with forming the Training Dataset.\n",
      "Done with forming the Validation Dataset.\n"
     ]
    }
   ],
   "source": [
    "import math\n",
    "length_TrainingSet = len(X)\n",
    "percentage_training = 0.7\n",
    "len_train = math.floor(length_TrainingSet * percentage_training);\n",
    "\n",
    "X_train = X[:len_train]\n",
    "Y_train = Y[:len_train]\n",
    "print(\"Done with forming the Training Dataset.\")\n",
    "\n",
    "X_validation = X[len_train:len(X)]\n",
    "Y_validation = Y[len_train:len(Y)]\n",
    "print(\"Done with forming the Validation Dataset.\")"
   ]
  },
  {
   "cell_type": "code",
   "execution_count": 4,
   "metadata": {
    "collapsed": false
   },
   "outputs": [
    {
     "name": "stdout",
     "output_type": "stream",
     "text": [
      "Classification is Done.\n",
      "Accuracy on the Training Data:\n",
      "100.0\n",
      "Accuracy on the Validation Data set: \n",
      "88.6660854403\n"
     ]
    }
   ],
   "source": [
    "clf = AdaBoostClassifier(base_estimator=DecisionTreeClassifier(),n_estimators=100,learning_rate=0.1)\n",
    "clf = clf.fit(X_train,Y_train)\n",
    "print(\"Classification is Done.\")\n",
    "\n",
    "output_Predicted = clf.predict(X_train);\n",
    "accuracy_training = metrics.accuracy_score(output_Predicted,Y_train)\n",
    "print(\"Accuracy on the Training Data:\")\n",
    "print(accuracy_training* 100)\n",
    "\n",
    "\n",
    "output_predicted_validation = clf.predict(X_validation)\n",
    "accuracy_2ndFold = metrics.accuracy_score(output_predicted_validation,Y_validation)\n",
    "print(\"Accuracy on the Validation Data set: \")\n",
    "print(accuracy_2ndFold * 100)"
   ]
  },
  {
   "cell_type": "code",
   "execution_count": 12,
   "metadata": {
    "collapsed": false
   },
   "outputs": [
    {
     "name": "stdout",
     "output_type": "stream",
     "text": [
      "Classification is Done.\n"
     ]
    }
   ],
   "source": [
    "### From above graph we can say n_estimator value = 250 is giving best accuracy and low error on Validation dataset.\n",
    "### Hence we will be training the Model with K=5.\n",
    "clf = AdaBoostClassifier(base_estimator=DecisionTreeClassifier(max_depth=10),n_estimators=250,learning_rate=0.01)\n",
    "clf = clf.fit(X_train,Y_train)\n",
    "print(\"Classification is Done.\")"
   ]
  },
  {
   "cell_type": "code",
   "execution_count": null,
   "metadata": {
    "collapsed": true
   },
   "outputs": [],
   "source": [
    "### This code is responsible for formation of the Testing dataset.\n",
    "with open('optdigits_test.csv') as testingFile:\n",
    "    reader = csv.reader(testingFile)\n",
    "    \n",
    "    X_test=[]\n",
    "    Y_test=[]\n",
    "    \n",
    "    for row in reader:\n",
    "        X_test.append(row[:64])\n",
    "        Y_test.append(row[64])\n",
    "        \n",
    "for i in range(0,len(X_test)):\n",
    "    lst = X_test[i]\n",
    "    for j in range(0,len(lst)):\n",
    "        lst[j] = float(int(lst[j]))\n",
    "    X_test[i] = lst\n",
    "for j in range(0,len(Y_test)):\n",
    "    Y_test[j] = float(int(Y_test[j]))\n",
    "\n",
    "print(\"Done forming the Testing Dataset.\")\n",
    "\n",
    "\n",
    "### Prediction of the \n",
    "output_predicted_testing = clf.predict(X_test)\n",
    "accuracy_testing = metrics.accuracy_score(output_predicted_testing, Y_test)\n",
    "print(\"Accuracy on the Testing Dataset is : \")\n",
    "print(accuracy_testing*100)"
   ]
  }
 ],
 "metadata": {
  "anaconda-cloud": {},
  "kernelspec": {
   "display_name": "Python [default]",
   "language": "python",
   "name": "python3"
  },
  "language_info": {
   "codemirror_mode": {
    "name": "ipython",
    "version": 3
   },
   "file_extension": ".py",
   "mimetype": "text/x-python",
   "name": "python",
   "nbconvert_exporter": "python",
   "pygments_lexer": "ipython3",
   "version": "3.5.2"
  }
 },
 "nbformat": 4,
 "nbformat_minor": 1
}
