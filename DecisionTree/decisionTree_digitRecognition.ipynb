{
 "cells": [
  {
   "cell_type": "code",
   "execution_count": 2,
   "metadata": {
    "collapsed": false,
    "scrolled": true
   },
   "outputs": [
    {
     "name": "stdout",
     "output_type": "stream",
     "text": [
      "Done Classifying\n",
      "Accuracy of Training DAta set.\n",
      "1.0\n",
      "Accuracy of Validation data set.\n",
      "0.8814298169136879\n",
      "Test\n",
      "0.8497495826377296\n"
     ]
    }
   ],
   "source": [
    "import csv\n",
    "import numpy as np\n",
    "from sklearn import tree\n",
    "import math\n",
    "\n",
    "with open('optdigits_raining.csv') as trainingFile:\n",
    "    reader = csv.reader(trainingFile)\n",
    "    \n",
    "    X=[]\n",
    "    Y=[]\n",
    "    \n",
    "    for row in reader:\n",
    "        X.append(row[:64])\n",
    "        Y.append(row[64])\n",
    "            \n",
    "    num_correct = 0;\n",
    "    length_TrainingSet = len(X)\n",
    "\n",
    "    percentage_training = 0.7\n",
    "    \n",
    "    len_train = math.floor(length_TrainingSet * percentage_training);\n",
    "    \n",
    "    X_train = X[:len_train]\n",
    "    Y_train = Y[:len_train]\n",
    "    \n",
    "    X_validation = X[len_train:len(X)]\n",
    "    Y_validation = Y[len_train:len(Y)]\n",
    "    \n",
    "    \n",
    "    clf = tree.DecisionTreeClassifier();\n",
    "    clf = clf.fit(X_train, Y_train)\n",
    "    print(\"Done Classifying\");\n",
    "    \n",
    "    num_correct = 0;\n",
    "    for i in range(0,len(X_train)):\n",
    "            output_predicted = clf.predict([X_train[i]])\n",
    "            originalOutput = Y_train[i]\n",
    "        \n",
    "            difference = int(output_predicted[0]) - int(originalOutput)\n",
    "            if(np.absolute(difference) == 0):\n",
    "                num_correct = num_correct + 1;\n",
    "    \n",
    "    accuracy_Training = num_correct /len(X_train)\n",
    "    print(\"Accuracy of Training DAta set.\")\n",
    "    print(accuracy_Training);\n",
    "    \n",
    "    num_correct = 0;\n",
    "    for i in range(0,len(X_validation)):\n",
    "            output_predicted = clf.predict([X_validation[i]])\n",
    "            originalOutput = Y_validation[i]\n",
    "        \n",
    "            difference = int(output_predicted[0]) - int(originalOutput)\n",
    "            if(np.absolute(difference) == 0):\n",
    "                num_correct = num_correct + 1;\n",
    "    \n",
    "    accuracy_Validation = num_correct /len(X_validation)\n",
    "    print(\"Accuracy of Validation data set.\")\n",
    "    print(accuracy_Validation);\n",
    "    \n",
    "    \n",
    "    \n",
    "    with open('optdigits_test.csv') as testingFile:\n",
    "        testReader = csv.reader(testingFile)\n",
    "    \n",
    "        X_test = []\n",
    "        Y_test = []\n",
    "    \n",
    "        for row in testReader:\n",
    "            X_test.append(row[:64])\n",
    "            Y_test.append(row[64])\n",
    "\n",
    "        num_correct = 0;\n",
    "        length = len(X_test)\n",
    "        for i in range(0,length):\n",
    "            output_predicted = clf.predict([X_test[i]])\n",
    "            originalOutput = Y_test[i]\n",
    "        \n",
    "            difference = int(output_predicted[0]) - int(originalOutput)\n",
    "        #print(difference)\n",
    "            if(np.absolute(difference) == 0):\n",
    "                num_correct = num_correct + 1;\n",
    "    \n",
    "    accuracy = num_correct /len(X_test)\n",
    "    print(\"Test\")\n",
    "    print(accuracy);\n",
    "        \n",
    "\n",
    "\n",
    "    \n",
    "    \n",
    "    #clf.predict(X[5])"
   ]
  },
  {
   "cell_type": "code",
   "execution_count": null,
   "metadata": {
    "collapsed": false
   },
   "outputs": [],
   "source": []
  },
  {
   "cell_type": "code",
   "execution_count": null,
   "metadata": {
    "collapsed": true
   },
   "outputs": [],
   "source": []
  }
 ],
 "metadata": {
  "anaconda-cloud": {},
  "kernelspec": {
   "display_name": "Python [default]",
   "language": "python",
   "name": "python3"
  },
  "language_info": {
   "codemirror_mode": {
    "name": "ipython",
    "version": 3
   },
   "file_extension": ".py",
   "mimetype": "text/x-python",
   "name": "python",
   "nbconvert_exporter": "python",
   "pygments_lexer": "ipython3",
   "version": "3.5.2"
  }
 },
 "nbformat": 4,
 "nbformat_minor": 1
}
