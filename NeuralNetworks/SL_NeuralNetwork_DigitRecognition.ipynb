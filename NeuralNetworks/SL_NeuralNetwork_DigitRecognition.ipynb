{
 "cells": [
  {
   "cell_type": "code",
   "execution_count": 35,
   "metadata": {
    "collapsed": false
   },
   "outputs": [
    {
     "name": "stdout",
     "output_type": "stream",
     "text": [
      "Done with loading the training data.\n",
      "Done with forming the Training Data.\n",
      "Done with forming the Validation dataset.\n"
     ]
    }
   ],
   "source": [
    "import csv\n",
    "import numpy as np\n",
    "from sklearn.neural_network import MLPClassifier\n",
    "import math\n",
    "from sklearn import metrics\n",
    "\n",
    "with open('optdigits_raining.csv') as trainingFile:\n",
    "    reader = csv.reader(trainingFile)\n",
    "    \n",
    "    X=[]\n",
    "    Y=[]\n",
    "    \n",
    "    for row in reader:\n",
    "        X.append(row[:64])\n",
    "        Y.append(row[64])\n",
    "\n",
    "print(\"Done with loading the training data.\")\n",
    "#num_correct = 0;\n",
    "length_TrainingSet = len(X)\n",
    "\n",
    "percentage_training = 0.8\n",
    "    \n",
    "len_train = math.floor(length_TrainingSet * percentage_training);\n",
    "    \n",
    "X_train = X[:len_train]\n",
    "Y_train = Y[:len_train]\n",
    "\n",
    "for i in range(0,len(X_train)):\n",
    "    lst = X_train[i]\n",
    "    for j in range(0,len(lst)):\n",
    "        lst[j] = float(int(lst[j]))\n",
    "    X_train[i] = lst\n",
    "for i in range(0,len(Y_train)):\n",
    "    Y_train[i] = float(int(Y_train[i]))\n",
    "\n",
    "print(\"Done with forming the Training Data.\")\n",
    "\n",
    "X_validation = X[len_train:len(X)]\n",
    "Y_validation = Y[len_train:len(Y)]\n",
    "\n",
    "\n",
    "for i in range(0,len(X_validation)):\n",
    "    lst = X_validation[i]\n",
    "    for j in range(0,len(lst)):\n",
    "        lst[j] = float(int(lst[j]))\n",
    "    X_validation[i] = lst\n",
    "for i in range(0,len(Y_validation)):\n",
    "    Y_validation[i] = float(int(Y_validation[i]))\n",
    "\n",
    "\n",
    "print(\"Done with forming the Validation dataset.\")\n",
    "#print(type(Y_train[1]))\n"
   ]
  },
  {
   "cell_type": "code",
   "execution_count": 36,
   "metadata": {
    "collapsed": false
   },
   "outputs": [
    {
     "name": "stdout",
     "output_type": "stream",
     "text": [
      "Classification is Done.\n"
     ]
    }
   ],
   "source": [
    "clf = MLPClassifier()\n",
    "clf = clf.fit(X_train,Y_train)\n",
    "print(\"Classification is Done.\")"
   ]
  },
  {
   "cell_type": "code",
   "execution_count": 37,
   "metadata": {
    "collapsed": false
   },
   "outputs": [
    {
     "name": "stdout",
     "output_type": "stream",
     "text": [
      "Accuracy on the Training Data set:\n",
      "100.0\n"
     ]
    }
   ],
   "source": [
    "output_Predicted = clf.predict(X_train);\n",
    "accuracy_training = metrics.accuracy_score(output_Predicted,Y_train)\n",
    "print(\"Accuracy on the Training Data set:\")\n",
    "print(accuracy_training* 100)\n"
   ]
  },
  {
   "cell_type": "code",
   "execution_count": 38,
   "metadata": {
    "collapsed": false
   },
   "outputs": [
    {
     "name": "stdout",
     "output_type": "stream",
     "text": [
      "Accuracy on the Validation Data set is : \n",
      "98.0392156863\n"
     ]
    }
   ],
   "source": [
    "output_predicted_validation = clf.predict(X_validation)\n",
    "accuracy_validation = metrics.accuracy_score(output_predicted_validation,Y_validation)\n",
    "print(\"Accuracy on the Validation Data set is : \")\n",
    "print(accuracy_validation * 100)"
   ]
  },
  {
   "cell_type": "code",
   "execution_count": 39,
   "metadata": {
    "collapsed": false
   },
   "outputs": [
    {
     "name": "stdout",
     "output_type": "stream",
     "text": [
      "Done forming the Testing Dataset.\n",
      "Accuracy on the Testing Dataset is : \n",
      "96.0489705064\n"
     ]
    }
   ],
   "source": [
    "### Testing data set.\n",
    "with open('optdigits_test.csv') as testingFile:\n",
    "    reader = csv.reader(testingFile)\n",
    "    \n",
    "    X_test=[]\n",
    "    Y_test=[]\n",
    "    \n",
    "    for row in reader:\n",
    "        X_test.append(row[:64])\n",
    "        Y_test.append(row[64])\n",
    "        \n",
    "for i in range(0,len(X_test)):\n",
    "    lst = X_test[i]\n",
    "    for j in range(0,len(lst)):\n",
    "        lst[j] = float(int(lst[j]))\n",
    "    X_test[i] = lst\n",
    "for j in range(0,len(Y_test)):\n",
    "    Y_test[j] = float(int(Y_test[j]))\n",
    "\n",
    "print(\"Done forming the Testing Dataset.\")\n",
    "\n",
    "output_predicted_testing = clf.predict(X_test)\n",
    "accuracy_testing = metrics.accuracy_score(output_predicted_testing, Y_test)\n",
    "print(\"Accuracy on the Testing Dataset is : \")\n",
    "print(accuracy_testing*100)\n",
    "#print(Y_test[1])"
   ]
  },
  {
   "cell_type": "code",
   "execution_count": null,
   "metadata": {
    "collapsed": true
   },
   "outputs": [],
   "source": []
  }
 ],
 "metadata": {
  "anaconda-cloud": {},
  "kernelspec": {
   "display_name": "Python 3",
   "language": "python",
   "name": "python3"
  },
  "language_info": {
   "codemirror_mode": {
    "name": "ipython",
    "version": 3
   },
   "file_extension": ".py",
   "mimetype": "text/x-python",
   "name": "python",
   "nbconvert_exporter": "python",
   "pygments_lexer": "ipython3",
   "version": "3.6.0"
  }
 },
 "nbformat": 4,
 "nbformat_minor": 1
}
